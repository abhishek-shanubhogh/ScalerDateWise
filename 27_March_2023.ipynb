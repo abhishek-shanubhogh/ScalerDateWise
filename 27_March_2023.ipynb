{
  "nbformat": 4,
  "nbformat_minor": 0,
  "metadata": {
    "colab": {
      "provenance": [],
      "authorship_tag": "ABX9TyN+gOZt27Q0qDFH2UCEOlNC",
      "include_colab_link": true
    },
    "kernelspec": {
      "name": "python3",
      "display_name": "Python 3"
    },
    "language_info": {
      "name": "python"
    }
  },
  "cells": [
    {
      "cell_type": "markdown",
      "metadata": {
        "id": "view-in-github",
        "colab_type": "text"
      },
      "source": [
        "<a href=\"https://colab.research.google.com/github/abhishek-shanubhogh/ScalerDateWise/blob/main/27_March_2023.ipynb\" target=\"_parent\"><img src=\"https://colab.research.google.com/assets/colab-badge.svg\" alt=\"Open In Colab\"/></a>"
      ]
    },
    {
      "cell_type": "code",
      "execution_count": null,
      "metadata": {
        "colab": {
          "base_uri": "https://localhost:8080/"
        },
        "id": "YjWtPUXxreHP",
        "outputId": "f1436a4f-6ca5-4687-eb66-764c0caf1fda"
      },
      "outputs": [
        {
          "output_type": "stream",
          "name": "stdout",
          "text": [
            "Hi this is our first file\n",
            "this is scalar\n",
            "what we have to do bro \n",
            "this is file handling\n",
            "tab space   tab\n"
          ]
        }
      ],
      "source": [
        "f=open('demo.txt')\n",
        "f.read()\n",
        "f.seek(0)\n",
        "print(f.read())\n",
        "f.close()"
      ]
    },
    {
      "cell_type": "code",
      "source": [
        "with open('demo.txt','r') as f2:\n",
        "  print(f2.read())\n",
        "  print(f2.closed)\n",
        "  f2.seek(0)\n",
        "  print(f2.read())"
      ],
      "metadata": {
        "colab": {
          "base_uri": "https://localhost:8080/"
        },
        "id": "fhLEpLsyt-la",
        "outputId": "cfa5eb96-d13a-4e96-f691-e45f6970d7d3"
      },
      "execution_count": null,
      "outputs": [
        {
          "output_type": "stream",
          "name": "stdout",
          "text": [
            "Hi this is our first file\n",
            "this is scalar\n",
            "what we have to do bro \n",
            "this is file handling\n",
            "tab space   tab\n",
            "False\n",
            "Hi this is our first file\n",
            "this is scalar\n",
            "what we have to do bro \n",
            "this is file handling\n",
            "tab space   tab\n"
          ]
        }
      ]
    },
    {
      "cell_type": "code",
      "source": [
        "f2.closed"
      ],
      "metadata": {
        "colab": {
          "base_uri": "https://localhost:8080/"
        },
        "id": "zLeiTVBbxia7",
        "outputId": "d999c2a1-3528-4b8f-f03c-3f475579ee25"
      },
      "execution_count": null,
      "outputs": [
        {
          "output_type": "execute_result",
          "data": {
            "text/plain": [
              "True"
            ]
          },
          "metadata": {},
          "execution_count": 30
        }
      ]
    },
    {
      "cell_type": "code",
      "source": [
        "with open('demo1.txt','r+') as f:\n",
        "  #print(f.read())\n",
        "  #f.seek(0)\n",
        "  print(f.write('mohit \\\\n'))"
      ],
      "metadata": {
        "colab": {
          "base_uri": "https://localhost:8080/"
        },
        "id": "pENxoDXgzlFR",
        "outputId": "ee30a70c-ef2c-4a43-dfab-1f386d8a8669"
      },
      "execution_count": null,
      "outputs": [
        {
          "output_type": "stream",
          "name": "stdout",
          "text": [
            "8\n"
          ]
        }
      ]
    },
    {
      "cell_type": "code",
      "source": [
        "w=open('demo_write.txt','w')\n",
        "w.write('1st \\n2nd\\n3rd')\n",
        "w.close()\n"
      ],
      "metadata": {
        "id": "LbUzFCt8a28t"
      },
      "execution_count": 6,
      "outputs": []
    },
    {
      "cell_type": "code",
      "source": [
        "with open('solution.txt','r') as w1:\n",
        "  print(w1.readlines())"
      ],
      "metadata": {
        "colab": {
          "base_uri": "https://localhost:8080/"
        },
        "id": "EYqg-DRmb8VT",
        "outputId": "e7462e53-07e1-4467-b74e-d1030815e0c1"
      },
      "execution_count": 8,
      "outputs": [
        {
          "output_type": "stream",
          "name": "stdout",
          "text": [
            "['1st line 2nd line 3rd line \\n', ' 1st line 2nd line 3rd line \\n', '1st line 2nd line 3rd line \\n', '1st line 2nd line 3rd line \\n', '1st line 2nd line 3rd line']\n"
          ]
        }
      ]
    },
    {
      "cell_type": "code",
      "source": [
        "l=[['a',1],['b',2],['c',2],['d',3]]\n",
        "ans= list(map( lambda x:x[0],filter(lambda x:x[1]==2,l)))\n",
        "print(ans)\n",
        "\n",
        "\n"
      ],
      "metadata": {
        "colab": {
          "base_uri": "https://localhost:8080/"
        },
        "id": "9sDTxXM7tDnH",
        "outputId": "0dab8d34-5075-4336-9332-35faf2bf87c2"
      },
      "execution_count": 14,
      "outputs": [
        {
          "output_type": "stream",
          "name": "stdout",
          "text": [
            "['b', 'c']\n"
          ]
        }
      ]
    },
    {
      "cell_type": "code",
      "source": [
        "Dictionary1 = { 'A': 'Geeks', 'B': 4, 'C': 'Geeks' }\n",
        "  \n",
        "print(\"Dictionary items:\")\n",
        "for i,j in Dictionary1.items():\n",
        "  print(i,j)"
      ],
      "metadata": {
        "colab": {
          "base_uri": "https://localhost:8080/"
        },
        "id": "TIs5SNbY4Cqe",
        "outputId": "276bea8a-de9d-4169-8542-a8902d177c98"
      },
      "execution_count": 17,
      "outputs": [
        {
          "output_type": "stream",
          "name": "stdout",
          "text": [
            "Dictionary items:\n",
            "A Geeks\n",
            "B 4\n",
            "C Geeks\n"
          ]
        }
      ]
    },
    {
      "cell_type": "code",
      "source": [
        "l1=[1,2,3,4,5]\n",
        "print(id(l1))\n",
        "l2=l1\n",
        "l2.append(7)\n",
        "print(l1,l2)\n",
        "print(id(l2))"
      ],
      "metadata": {
        "colab": {
          "base_uri": "https://localhost:8080/"
        },
        "id": "fFz7IPkv55f_",
        "outputId": "96914a03-e66e-4cb3-82d5-bc5060e6f3ca"
      },
      "execution_count": 20,
      "outputs": [
        {
          "output_type": "stream",
          "name": "stdout",
          "text": [
            "139714583808192\n",
            "[1, 2, 3, 4, 5, 7] [1, 2, 3, 4, 5, 7]\n",
            "139714583808192\n"
          ]
        }
      ]
    }
  ]
}